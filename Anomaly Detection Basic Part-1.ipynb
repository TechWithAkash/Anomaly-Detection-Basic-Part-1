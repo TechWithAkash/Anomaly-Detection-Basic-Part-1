{
 "cells": [
  {
   "cell_type": "markdown",
   "id": "33fb2b53",
   "metadata": {},
   "source": [
    "\n",
    "### Q1. What is anomaly detection and what is its purpose?\n",
    "Anomaly detection involves identifying patterns or instances in data that significantly deviate from the norm or expected behavior. Its primary purpose is to flag unusual or rare events, outliers, or deviations that might signal potential issues, errors, fraudulent activities, or interesting patterns in a dataset.\n",
    "\n",
    "### Q2. What are the key challenges in anomaly detection?\n",
    "The challenges in anomaly detection include:\n",
    "- Defining anomalies: What constitutes an anomaly can vary greatly across different domains.\n",
    "- Imbalanced data: Anomalies are often rare compared to normal instances, leading to imbalanced datasets.\n",
    "- Feature selection: Choosing relevant features that capture anomalies effectively is crucial.\n",
    "- High-dimensional data: Handling data with numerous dimensions can impact the effectiveness of certain algorithms.\n",
    "- Novelty detection: Detecting anomalies that were not seen during training poses a challenge.\n",
    "\n",
    "### Q3. How does unsupervised anomaly detection differ from supervised anomaly detection?\n",
    "- **Unsupervised**: Analyzes unlabeled data, identifying anomalies without prior knowledge of what anomalies might look like.\n",
    "- **Supervised**: Relies on labeled data, where the algorithm is trained on both normal and anomalous instances, learning to differentiate between the two based on the provided labels.\n",
    "\n",
    "### Q4. What are the main categories of anomaly detection algorithms?\n",
    "Anomaly detection algorithms can be categorized into:\n",
    "- **Statistical methods**: Utilize statistical models to identify outliers based on statistical properties of the data.\n",
    "- **Machine learning-based approaches**: Employ various techniques such as clustering, classification, and density-based methods.\n",
    "- **Domain-specific techniques**: Tailored methods designed for specific domains or applications.\n",
    "\n",
    "### Q5. What are the main assumptions made by distance-based anomaly detection methods?\n",
    "Distance-based methods assume:\n",
    "- Normal instances occur within dense neighborhoods.\n",
    "- Anomalies are far from their nearest neighbors and are less dense compared to the majority of instances.\n",
    "\n",
    "### Q6. How does the LOF algorithm compute anomaly scores?\n",
    "The Local Outlier Factor (LOF) measures the local density deviation of a particular data point concerning its neighbors. It computes the ratio of the average local density of its k-nearest neighbors to its own local density. A score significantly higher than 1 indicates that the point is in a less dense region, potentially an anomaly.\n",
    "\n",
    "### Q7. What are the key parameters of the Isolation Forest algorithm?\n",
    "The primary parameters of the Isolation Forest algorithm include:\n",
    "- **Number of trees**: Determines the complexity of the model. More trees might improve performance but can also increase computational cost.\n",
    "- **Subsampling size**: Influences the diversity of trees in the forest and impacts the algorithm's ability to detect anomalies.\n",
    "\n",
    "### Q8. If a data point has only 2 neighbors of the same class within a radius of 0.5, what is its anomaly score using KNN with K=10?\n",
    "With only 2 neighbors of the same class within a small radius (0.5) using KNN with K=10, the anomaly score for this data point might be relatively high. The scarcity of similar neighbors within the given radius suggests an outlier or anomaly.\n",
    "\n",
    "### Q9. Using the Isolation Forest algorithm with 100 trees and a dataset of 3000 data points, what is the anomaly score for a data point that has an average path length of 5.0 compared to the average path length of the trees?\n",
    "An average path length of 5.0 for a data point in an Isolation Forest with 100 trees and a dataset of 3000 points suggests a moderate anomaly. A significantly lower average path length compared to the average tree path length might indicate a higher degree of anomaly, implying that this particular data point is relatively more isolated in the forest and thus, potentially more anomalous."
   ]
  },
  {
   "cell_type": "code",
   "execution_count": null,
   "id": "c2c641af",
   "metadata": {},
   "outputs": [],
   "source": []
  }
 ],
 "metadata": {
  "kernelspec": {
   "display_name": "Python 3 (ipykernel)",
   "language": "python",
   "name": "python3"
  },
  "language_info": {
   "codemirror_mode": {
    "name": "ipython",
    "version": 3
   },
   "file_extension": ".py",
   "mimetype": "text/x-python",
   "name": "python",
   "nbconvert_exporter": "python",
   "pygments_lexer": "ipython3",
   "version": "3.10.9"
  }
 },
 "nbformat": 4,
 "nbformat_minor": 5
}
